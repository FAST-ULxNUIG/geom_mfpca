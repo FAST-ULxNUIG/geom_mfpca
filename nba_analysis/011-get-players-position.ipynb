{
 "cells": [
  {
   "cell_type": "code",
   "execution_count": 12,
   "id": "873114a5",
   "metadata": {},
   "outputs": [],
   "source": [
    "# Load packages\n",
    "import json\n",
    "import numpy as np\n",
    "import pandas as pd\n",
    "import pickle\n",
    "import requests\n",
    "\n",
    "from nba_api.stats.static import players\n",
    "from nba_api.stats.endpoints import commonplayerinfo"
   ]
  },
  {
   "cell_type": "code",
   "execution_count": 29,
   "id": "93d9f01e",
   "metadata": {},
   "outputs": [],
   "source": [
    "# Load players\n",
    "with open('./data/players_career.pickle', 'rb') as f:\n",
    "    players_career = pickle.load(f)"
   ]
  },
  {
   "cell_type": "code",
   "execution_count": 39,
   "id": "4a4cab6a",
   "metadata": {},
   "outputs": [],
   "source": [
    "# Function\n",
    "def get_position(idx):\n",
    "    player_info = commonplayerinfo.CommonPlayerInfo(player_id=idx)\n",
    "    player_info = player_info.get_normalized_dict()\n",
    "    return {\n",
    "        'PLAYER_ID': player_info.get('PlayerHeadlineStats')[0].get('PLAYER_ID'),\n",
    "        'PLAYER_NAME': player_info.get('PlayerHeadlineStats')[0].get('PLAYER_NAME'),\n",
    "        'POSITION': player_info.get('CommonPlayerInfo')[0].get('POSITION')\n",
    "    }"
   ]
  },
  {
   "cell_type": "code",
   "execution_count": 37,
   "id": "adfea164",
   "metadata": {},
   "outputs": [],
   "source": [
    "# Get positions\n",
    "players_info = []\n",
    "for player in players_career:\n",
    "    try:\n",
    "        players_info.append(get_position(player['id']))\n",
    "    except:\n",
    "        continue"
   ]
  },
  {
   "cell_type": "code",
   "execution_count": 41,
   "id": "3ca97e4c",
   "metadata": {},
   "outputs": [],
   "source": [
    "# Create a dataframe\n",
    "player_info = pd.DataFrame(players_info)"
   ]
  },
  {
   "cell_type": "code",
   "execution_count": 42,
   "id": "b82b9b72",
   "metadata": {},
   "outputs": [],
   "source": [
    "# Save player information\n",
    "with open('./data/player_position.pickle', 'wb') as f:\n",
    "    pickle.dump(player_info, f, protocol=pickle.HIGHEST_PROTOCOL)"
   ]
  }
 ],
 "metadata": {
  "kernelspec": {
   "display_name": "Python 3.9",
   "language": "python",
   "name": "python3.9"
  },
  "language_info": {
   "codemirror_mode": {
    "name": "ipython",
    "version": 3
   },
   "file_extension": ".py",
   "mimetype": "text/x-python",
   "name": "python",
   "nbconvert_exporter": "python",
   "pygments_lexer": "ipython3",
   "version": "3.9.11"
  }
 },
 "nbformat": 4,
 "nbformat_minor": 5
}
