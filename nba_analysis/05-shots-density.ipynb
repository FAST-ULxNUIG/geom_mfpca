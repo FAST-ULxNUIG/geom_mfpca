{
 "cells": [
  {
   "cell_type": "code",
   "execution_count": 1,
   "id": "9875ac6c",
   "metadata": {},
   "outputs": [],
   "source": [
    "# Load packages\n",
    "import matplotlib.pyplot as plt\n",
    "import numpy as np\n",
    "import pandas as pd\n",
    "import pickle\n",
    "import scipy.stats"
   ]
  },
  {
   "cell_type": "code",
   "execution_count": 2,
   "id": "85216831",
   "metadata": {},
   "outputs": [],
   "source": [
    "# Load shots\n",
    "with open('./data/players_shots_clean.pickle', 'rb') as f:\n",
    "    players_shots = pickle.load(f)\n",
    "with open('./data/player_position.pickle', 'rb') as f:\n",
    "    players_position = pickle.load(f)\n"
   ]
  },
  {
   "cell_type": "code",
   "execution_count": 3,
   "id": "f84e9dca",
   "metadata": {},
   "outputs": [],
   "source": [
    "# VARIABLES\n",
    "X_MIN, X_MAX = (-250, 250) \n",
    "Y_MIN, Y_MAX = (0, 422.5)\n",
    "\n",
    "XX, YY = np.mgrid[0:1:51j, 0:1:51j]\n",
    "POS = np.vstack([XX.ravel(), YY.ravel()])"
   ]
  },
  {
   "cell_type": "code",
   "execution_count": 4,
   "id": "16114ac7",
   "metadata": {},
   "outputs": [],
   "source": [
    "# Functions\n",
    "def estimate_density(df):\n",
    "    X = df.LOC_X.to_numpy(dtype='float')\n",
    "    Y = df.LOC_Y.to_numpy(dtype='float')\n",
    "    \n",
    "    # Rescaling to [0, 1]\n",
    "    X = (X - X_MIN) / (X_MAX - X_MIN)\n",
    "    Y = (Y - Y_MIN) / (Y_MAX - Y_MIN)\n",
    "    \n",
    "    # Kernel density estimates\n",
    "    values = np.vstack([X, Y])\n",
    "    kernel = scipy.stats.gaussian_kde(values, bw_method='silverman')\n",
    "    density = kernel(POS).T\n",
    "    density[density < 1e-16] = 0\n",
    "    return np.reshape(density, XX.shape)"
   ]
  },
  {
   "cell_type": "code",
   "execution_count": 7,
   "id": "9b704623",
   "metadata": {},
   "outputs": [
    {
     "data": {
      "text/plain": [
       "array(['Forward', 'Center', 'Center-Forward', 'Guard', 'Forward-Center',\n",
       "       'Forward-Guard', 'Guard-Forward'], dtype=object)"
      ]
     },
     "execution_count": 7,
     "metadata": {},
     "output_type": "execute_result"
    }
   ],
   "source": [
    "players_position['POSITION'].unique()"
   ]
  },
  {
   "cell_type": "code",
   "execution_count": 10,
   "id": "0c011504",
   "metadata": {},
   "outputs": [],
   "source": [
    "# Remove Center player\n",
    "# They shots only under the basket...\n",
    "not_centers = players_position.query(\n",
    "    \"POSITION != 'Center' & POSITION != 'Center-Forward' & POSITION != 'Forward-Center'\"\n",
    ")\n",
    "players_shots = players_shots.loc[[i in not_centers.PLAYER_ID.values for i in players_shots.PLAYER_ID.values]]\n",
    "#players_shots = players_shots.query(\"PLAYER_NAME != 'Mitchell Robinson'\")"
   ]
  },
  {
   "cell_type": "code",
   "execution_count": 14,
   "id": "160a6fbe",
   "metadata": {},
   "outputs": [],
   "source": [
    "shots_density = players_shots\\\n",
    "    .groupby('PLAYER_ID')\\\n",
    "    .apply(estimate_density)"
   ]
  },
  {
   "cell_type": "code",
   "execution_count": 15,
   "id": "a1d9467f",
   "metadata": {},
   "outputs": [],
   "source": [
    "shots_density_df = players_shots[['PLAYER_ID', 'PLAYER_NAME']]\\\n",
    "    .drop_duplicates()\\\n",
    "    .join(pd.DataFrame({'DENSITY': shots_density}), on='PLAYER_ID')\\\n",
    "    .reset_index()\\\n",
    "    .drop('index', axis=1)"
   ]
  },
  {
   "cell_type": "code",
   "execution_count": 17,
   "id": "36a0cc9c",
   "metadata": {},
   "outputs": [],
   "source": [
    "# Save dataframe\n",
    "with open('./data/players_shots_density.pickle', 'wb') as f:\n",
    "    pickle.dump(shots_density_df, f, protocol=pickle.HIGHEST_PROTOCOL)"
   ]
  },
  {
   "cell_type": "code",
   "execution_count": 18,
   "id": "1dda70cd",
   "metadata": {},
   "outputs": [],
   "source": [
    "# Now, we do the same for the made shots.\n",
    "players_shots_made = players_shots[players_shots.SHOT_MADE_FLAG == 1]"
   ]
  },
  {
   "cell_type": "code",
   "execution_count": 19,
   "id": "3578e11a",
   "metadata": {},
   "outputs": [],
   "source": [
    "shots_density_made = players_shots_made\\\n",
    "    .groupby('PLAYER_ID')\\\n",
    "    .apply(estimate_density)"
   ]
  },
  {
   "cell_type": "code",
   "execution_count": 20,
   "id": "310768ec",
   "metadata": {},
   "outputs": [],
   "source": [
    "shots_density_made_df = players_shots[['PLAYER_ID', 'PLAYER_NAME']]\\\n",
    "    .drop_duplicates()\\\n",
    "    .join(pd.DataFrame({'DENSITY': shots_density_made}), on='PLAYER_ID')\\\n",
    "    .reset_index()\\\n",
    "    .drop('index', axis=1) "
   ]
  },
  {
   "cell_type": "code",
   "execution_count": 21,
   "id": "ef8c480a",
   "metadata": {},
   "outputs": [],
   "source": [
    "# Save dataframe\n",
    "with open('./data/players_shots_density_made.pickle', 'wb') as f:\n",
    "    pickle.dump(shots_density_made_df, f, protocol=pickle.HIGHEST_PROTOCOL)"
   ]
  }
 ],
 "metadata": {
  "kernelspec": {
   "display_name": "Python 3.9",
   "language": "python",
   "name": "python3.9"
  },
  "language_info": {
   "codemirror_mode": {
    "name": "ipython",
    "version": 3
   },
   "file_extension": ".py",
   "mimetype": "text/x-python",
   "name": "python",
   "nbconvert_exporter": "python",
   "pygments_lexer": "ipython3",
   "version": "3.9.11"
  }
 },
 "nbformat": 4,
 "nbformat_minor": 5
}
