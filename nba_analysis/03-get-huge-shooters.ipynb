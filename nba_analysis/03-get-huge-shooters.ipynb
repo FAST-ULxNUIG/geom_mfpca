{
 "cells": [
  {
   "cell_type": "code",
   "execution_count": 1,
   "id": "00793fae",
   "metadata": {},
   "outputs": [],
   "source": [
    "# Load packages\n",
    "import json\n",
    "import matplotlib.pyplot as plt\n",
    "import numpy as np\n",
    "import pandas as pd\n",
    "import pickle\n",
    "import requests\n",
    "\n",
    "from nba_api.stats.endpoints import shotchartdetail\n",
    "from nba_api.stats.static import players, teams\n",
    "\n",
    "from nba import NbaScraper, ShotCharts"
   ]
  },
  {
   "cell_type": "code",
   "execution_count": 2,
   "id": "ae4ffb04",
   "metadata": {},
   "outputs": [],
   "source": [
    "# Load players\n",
    "with open('./data/player_shots.pickle', 'rb') as f:\n",
    "    players_shots = pickle.load(f)"
   ]
  },
  {
   "cell_type": "code",
   "execution_count": 3,
   "id": "a8382dfe",
   "metadata": {},
   "outputs": [],
   "source": [
    "# Count the shots for each player.\n",
    "VAR_SELECT = ['PLAYER_NAME', 'SHOT_ATTEMPTED_FLAG', 'SHOT_MADE_FLAG']\n",
    "shots_count = players_shots.loc[:, VAR_SELECT]\\\n",
    "    .groupby('PLAYER_NAME')\\\n",
    "    .agg({\n",
    "        'SHOT_ATTEMPTED_FLAG': 'sum',\n",
    "        'SHOT_MADE_FLAG': 'sum'\n",
    "    })"
   ]
  },
  {
   "cell_type": "code",
   "execution_count": 4,
   "id": "de4c6dce",
   "metadata": {},
   "outputs": [],
   "source": [
    "# Select the players wiht more than 1000 shots.\n",
    "PLAYERS_1000 = shots_count[shots_count['SHOT_MADE_FLAG'] > 1000].index"
   ]
  },
  {
   "cell_type": "code",
   "execution_count": 5,
   "id": "210d9cce",
   "metadata": {},
   "outputs": [
    {
     "data": {
      "text/plain": [
       "Index(['Aaron Gordon', 'Al Horford', 'Alec Burks', 'Andre Drummond',\n",
       "       'Andrew Wiggins', 'Anfernee Simons', 'Anthony Davis', 'Bam Adebayo',\n",
       "       'Bobby Portis', 'Bogdan Bogdanovic',\n",
       "       ...\n",
       "       'Taurean Prince', 'Terry Rozier', 'Thaddeus Young', 'Tim Hardaway Jr.',\n",
       "       'Tobias Harris', 'Trae Young', 'Tyrese Haliburton', 'Tyus Jones',\n",
       "       'Wendell Carter Jr.', 'Zach LaVine'],\n",
       "      dtype='object', name='PLAYER_NAME', length=131)"
      ]
     },
     "execution_count": 5,
     "metadata": {},
     "output_type": "execute_result"
    }
   ],
   "source": [
    "PLAYERS_1000"
   ]
  },
  {
   "cell_type": "code",
   "execution_count": 6,
   "id": "a4c0a76a",
   "metadata": {},
   "outputs": [],
   "source": [
    "# Select columns of the dataframe\n",
    "df = players_shots[players_shots['PLAYER_NAME'].isin(PLAYERS_1000)]\\\n",
    "    .loc[:, ['PLAYER_ID', 'PLAYER_NAME', 'LOC_X', 'LOC_Y', 'SHOT_MADE_FLAG']]"
   ]
  },
  {
   "cell_type": "code",
   "execution_count": 7,
   "id": "9b74a710",
   "metadata": {},
   "outputs": [
    {
     "data": {
      "text/html": [
       "<div>\n",
       "<style scoped>\n",
       "    .dataframe tbody tr th:only-of-type {\n",
       "        vertical-align: middle;\n",
       "    }\n",
       "\n",
       "    .dataframe tbody tr th {\n",
       "        vertical-align: top;\n",
       "    }\n",
       "\n",
       "    .dataframe thead th {\n",
       "        text-align: right;\n",
       "    }\n",
       "</style>\n",
       "<table border=\"1\" class=\"dataframe\">\n",
       "  <thead>\n",
       "    <tr style=\"text-align: right;\">\n",
       "      <th></th>\n",
       "      <th>PLAYER_ID</th>\n",
       "      <th>PLAYER_NAME</th>\n",
       "      <th>LOC_X</th>\n",
       "      <th>LOC_Y</th>\n",
       "      <th>SHOT_MADE_FLAG</th>\n",
       "    </tr>\n",
       "  </thead>\n",
       "  <tbody>\n",
       "    <tr>\n",
       "      <th>3</th>\n",
       "      <td>203500</td>\n",
       "      <td>Steven Adams</td>\n",
       "      <td>12</td>\n",
       "      <td>6</td>\n",
       "      <td>1</td>\n",
       "    </tr>\n",
       "    <tr>\n",
       "      <th>6</th>\n",
       "      <td>203500</td>\n",
       "      <td>Steven Adams</td>\n",
       "      <td>5</td>\n",
       "      <td>7</td>\n",
       "      <td>1</td>\n",
       "    </tr>\n",
       "    <tr>\n",
       "      <th>7</th>\n",
       "      <td>203500</td>\n",
       "      <td>Steven Adams</td>\n",
       "      <td>0</td>\n",
       "      <td>-6</td>\n",
       "      <td>1</td>\n",
       "    </tr>\n",
       "    <tr>\n",
       "      <th>8</th>\n",
       "      <td>203500</td>\n",
       "      <td>Steven Adams</td>\n",
       "      <td>6</td>\n",
       "      <td>15</td>\n",
       "      <td>1</td>\n",
       "    </tr>\n",
       "    <tr>\n",
       "      <th>9</th>\n",
       "      <td>203500</td>\n",
       "      <td>Steven Adams</td>\n",
       "      <td>0</td>\n",
       "      <td>-6</td>\n",
       "      <td>1</td>\n",
       "    </tr>\n",
       "    <tr>\n",
       "      <th>...</th>\n",
       "      <td>...</td>\n",
       "      <td>...</td>\n",
       "      <td>...</td>\n",
       "      <td>...</td>\n",
       "      <td>...</td>\n",
       "    </tr>\n",
       "    <tr>\n",
       "      <th>508</th>\n",
       "      <td>1627826</td>\n",
       "      <td>Ivica Zubac</td>\n",
       "      <td>-37</td>\n",
       "      <td>81</td>\n",
       "      <td>1</td>\n",
       "    </tr>\n",
       "    <tr>\n",
       "      <th>509</th>\n",
       "      <td>1627826</td>\n",
       "      <td>Ivica Zubac</td>\n",
       "      <td>-1</td>\n",
       "      <td>58</td>\n",
       "      <td>1</td>\n",
       "    </tr>\n",
       "    <tr>\n",
       "      <th>511</th>\n",
       "      <td>1627826</td>\n",
       "      <td>Ivica Zubac</td>\n",
       "      <td>4</td>\n",
       "      <td>-1</td>\n",
       "      <td>1</td>\n",
       "    </tr>\n",
       "    <tr>\n",
       "      <th>512</th>\n",
       "      <td>1627826</td>\n",
       "      <td>Ivica Zubac</td>\n",
       "      <td>11</td>\n",
       "      <td>93</td>\n",
       "      <td>1</td>\n",
       "    </tr>\n",
       "    <tr>\n",
       "      <th>513</th>\n",
       "      <td>1627826</td>\n",
       "      <td>Ivica Zubac</td>\n",
       "      <td>-6</td>\n",
       "      <td>15</td>\n",
       "      <td>1</td>\n",
       "    </tr>\n",
       "  </tbody>\n",
       "</table>\n",
       "<p>234941 rows × 5 columns</p>\n",
       "</div>"
      ],
      "text/plain": [
       "    PLAYER_ID   PLAYER_NAME LOC_X LOC_Y SHOT_MADE_FLAG\n",
       "3      203500  Steven Adams    12     6              1\n",
       "6      203500  Steven Adams     5     7              1\n",
       "7      203500  Steven Adams     0    -6              1\n",
       "8      203500  Steven Adams     6    15              1\n",
       "9      203500  Steven Adams     0    -6              1\n",
       "..        ...           ...   ...   ...            ...\n",
       "508   1627826   Ivica Zubac   -37    81              1\n",
       "509   1627826   Ivica Zubac    -1    58              1\n",
       "511   1627826   Ivica Zubac     4    -1              1\n",
       "512   1627826   Ivica Zubac    11    93              1\n",
       "513   1627826   Ivica Zubac    -6    15              1\n",
       "\n",
       "[234941 rows x 5 columns]"
      ]
     },
     "execution_count": 7,
     "metadata": {},
     "output_type": "execute_result"
    }
   ],
   "source": [
    "df[df.SHOT_MADE_FLAG == 1]"
   ]
  },
  {
   "cell_type": "code",
   "execution_count": 8,
   "id": "29487a9d",
   "metadata": {},
   "outputs": [],
   "source": [
    "# Save dataframe\n",
    "with open('./data/player_shots_subset.pickle', 'wb') as f:\n",
    "    pickle.dump(df, f, protocol=pickle.HIGHEST_PROTOCOL)"
   ]
  }
 ],
 "metadata": {
  "kernelspec": {
   "display_name": "Python 3.9",
   "language": "python",
   "name": "python3.9"
  },
  "language_info": {
   "codemirror_mode": {
    "name": "ipython",
    "version": 3
   },
   "file_extension": ".py",
   "mimetype": "text/x-python",
   "name": "python",
   "nbconvert_exporter": "python",
   "pygments_lexer": "ipython3",
   "version": "3.9.11"
  }
 },
 "nbformat": 4,
 "nbformat_minor": 5
}
