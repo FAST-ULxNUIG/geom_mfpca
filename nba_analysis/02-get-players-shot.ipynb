{
 "cells": [
  {
   "cell_type": "code",
   "execution_count": 7,
   "id": "d007bffd",
   "metadata": {},
   "outputs": [],
   "source": [
    "# Load packages\n",
    "import json\n",
    "import numpy as np\n",
    "import pandas as pd\n",
    "import pickle\n",
    "import requests\n",
    "\n",
    "from nba_api.stats.endpoints import shotchartdetail\n",
    "from nba_api.stats.static import players, teams\n",
    "\n",
    "from nba import NbaScraper, ShotCharts"
   ]
  },
  {
   "cell_type": "code",
   "execution_count": 8,
   "id": "02b0ee38",
   "metadata": {},
   "outputs": [],
   "source": [
    "# Variables\n",
    "YEARS = ['2018-19', '2019-20', '2020-21', '2021-22', '2022-23']"
   ]
  },
  {
   "cell_type": "code",
   "execution_count": 9,
   "id": "7b494fa1",
   "metadata": {},
   "outputs": [],
   "source": [
    "# Load players\n",
    "with open('./data/players_career.pickle', 'rb') as f:\n",
    "    players_career = pickle.load(f)"
   ]
  },
  {
   "cell_type": "code",
   "execution_count": 10,
   "id": "c4a7422a",
   "metadata": {},
   "outputs": [
    {
     "name": "stdout",
     "output_type": "stream",
     "text": [
      "Number of players: 531\n"
     ]
    }
   ],
   "source": [
    "# Number of players\n",
    "print(f\"Number of players: {len(players_career)}\")"
   ]
  },
  {
   "cell_type": "code",
   "execution_count": 11,
   "id": "423e941a",
   "metadata": {},
   "outputs": [],
   "source": [
    "# Create a dataset containing the players with the year\n",
    "# in YEARS in NBA\n",
    "players = list()\n",
    "for pp in players_career:\n",
    "    temp = pp['career']\n",
    "    temp = temp[temp['SEASON_ID'].isin(YEARS)]\n",
    "    if len(temp) > 4:\n",
    "        players.append({\n",
    "            'PLAYER_ID': pp['id'],\n",
    "            'full_name': pp['full_name'],\n",
    "            'career': temp[['PLAYER_ID', 'SEASON_ID', 'TEAM_ID']]\n",
    "        })\n",
    "    else:\n",
    "        continue"
   ]
  },
  {
   "cell_type": "code",
   "execution_count": 12,
   "id": "4869372a",
   "metadata": {},
   "outputs": [],
   "source": [
    "players_season_long = pd.concat([pp['career'] for pp in players])\n",
    "players_season_long = players_season_long.query('TEAM_ID > 0')"
   ]
  },
  {
   "cell_type": "code",
   "execution_count": 13,
   "id": "9f15651e",
   "metadata": {},
   "outputs": [
    {
     "data": {
      "text/html": [
       "<div>\n",
       "<style scoped>\n",
       "    .dataframe tbody tr th:only-of-type {\n",
       "        vertical-align: middle;\n",
       "    }\n",
       "\n",
       "    .dataframe tbody tr th {\n",
       "        vertical-align: top;\n",
       "    }\n",
       "\n",
       "    .dataframe thead th {\n",
       "        text-align: right;\n",
       "    }\n",
       "</style>\n",
       "<table border=\"1\" class=\"dataframe\">\n",
       "  <thead>\n",
       "    <tr style=\"text-align: right;\">\n",
       "      <th></th>\n",
       "      <th>PLAYER_ID</th>\n",
       "      <th>SEASON_ID</th>\n",
       "      <th>TEAM_ID</th>\n",
       "    </tr>\n",
       "  </thead>\n",
       "  <tbody>\n",
       "    <tr>\n",
       "      <th>5</th>\n",
       "      <td>203500</td>\n",
       "      <td>2018-19</td>\n",
       "      <td>1610612760</td>\n",
       "    </tr>\n",
       "    <tr>\n",
       "      <th>6</th>\n",
       "      <td>203500</td>\n",
       "      <td>2019-20</td>\n",
       "      <td>1610612760</td>\n",
       "    </tr>\n",
       "    <tr>\n",
       "      <th>7</th>\n",
       "      <td>203500</td>\n",
       "      <td>2020-21</td>\n",
       "      <td>1610612740</td>\n",
       "    </tr>\n",
       "    <tr>\n",
       "      <th>8</th>\n",
       "      <td>203500</td>\n",
       "      <td>2021-22</td>\n",
       "      <td>1610612763</td>\n",
       "    </tr>\n",
       "    <tr>\n",
       "      <th>9</th>\n",
       "      <td>203500</td>\n",
       "      <td>2022-23</td>\n",
       "      <td>1610612763</td>\n",
       "    </tr>\n",
       "    <tr>\n",
       "      <th>...</th>\n",
       "      <td>...</td>\n",
       "      <td>...</td>\n",
       "      <td>...</td>\n",
       "    </tr>\n",
       "    <tr>\n",
       "      <th>3</th>\n",
       "      <td>1627826</td>\n",
       "      <td>2018-19</td>\n",
       "      <td>1610612746</td>\n",
       "    </tr>\n",
       "    <tr>\n",
       "      <th>5</th>\n",
       "      <td>1627826</td>\n",
       "      <td>2019-20</td>\n",
       "      <td>1610612746</td>\n",
       "    </tr>\n",
       "    <tr>\n",
       "      <th>6</th>\n",
       "      <td>1627826</td>\n",
       "      <td>2020-21</td>\n",
       "      <td>1610612746</td>\n",
       "    </tr>\n",
       "    <tr>\n",
       "      <th>7</th>\n",
       "      <td>1627826</td>\n",
       "      <td>2021-22</td>\n",
       "      <td>1610612746</td>\n",
       "    </tr>\n",
       "    <tr>\n",
       "      <th>8</th>\n",
       "      <td>1627826</td>\n",
       "      <td>2022-23</td>\n",
       "      <td>1610612746</td>\n",
       "    </tr>\n",
       "  </tbody>\n",
       "</table>\n",
       "<p>1245 rows × 3 columns</p>\n",
       "</div>"
      ],
      "text/plain": [
       "    PLAYER_ID SEASON_ID     TEAM_ID\n",
       "5      203500   2018-19  1610612760\n",
       "6      203500   2019-20  1610612760\n",
       "7      203500   2020-21  1610612740\n",
       "8      203500   2021-22  1610612763\n",
       "9      203500   2022-23  1610612763\n",
       "..        ...       ...         ...\n",
       "3     1627826   2018-19  1610612746\n",
       "5     1627826   2019-20  1610612746\n",
       "6     1627826   2020-21  1610612746\n",
       "7     1627826   2021-22  1610612746\n",
       "8     1627826   2022-23  1610612746\n",
       "\n",
       "[1245 rows x 3 columns]"
      ]
     },
     "execution_count": 13,
     "metadata": {},
     "output_type": "execute_result"
    }
   ],
   "source": [
    "players_season_long"
   ]
  },
  {
   "cell_type": "code",
   "execution_count": 117,
   "id": "0f626661",
   "metadata": {},
   "outputs": [],
   "source": [
    "df = pd.DataFrame()\n",
    "for idx, row in players_season_long.iterrows():\n",
    "    shot_data = shotchartdetail.ShotChartDetail(\n",
    "        team_id=row['TEAM_ID'],\n",
    "        player_id=row['PLAYER_ID'],\n",
    "        context_measure_simple='FGA',\n",
    "        season_nullable=row['SEASON_ID']\n",
    "    )\n",
    "    df = pd.concat([df, shot_data.get_data_frames()[0]])"
   ]
  },
  {
   "cell_type": "code",
   "execution_count": 119,
   "id": "ecb462a2",
   "metadata": {},
   "outputs": [],
   "source": [
    "# Save shots\n",
    "with open('./data/player_shots.pickle', 'wb') as f:\n",
    "    pickle.dump(df, f, protocol=pickle.HIGHEST_PROTOCOL)"
   ]
  }
 ],
 "metadata": {
  "kernelspec": {
   "display_name": "Python 3.9",
   "language": "python",
   "name": "python3.9"
  },
  "language_info": {
   "codemirror_mode": {
    "name": "ipython",
    "version": 3
   },
   "file_extension": ".py",
   "mimetype": "text/x-python",
   "name": "python",
   "nbconvert_exporter": "python",
   "pygments_lexer": "ipython3",
   "version": "3.9.11"
  }
 },
 "nbformat": 4,
 "nbformat_minor": 5
}
