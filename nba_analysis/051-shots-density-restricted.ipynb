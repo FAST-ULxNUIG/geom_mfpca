{
 "cells": [
  {
   "cell_type": "code",
   "execution_count": 1,
   "id": "9875ac6c",
   "metadata": {},
   "outputs": [],
   "source": [
    "# Load packages\n",
    "import matplotlib.pyplot as plt\n",
    "import numpy as np\n",
    "import pandas as pd\n",
    "import pickle\n",
    "import scipy.stats\n",
    "\n",
    "from sklearn.neighbors import KernelDensity"
   ]
  },
  {
   "cell_type": "code",
   "execution_count": 2,
   "id": "85216831",
   "metadata": {},
   "outputs": [],
   "source": [
    "# Load shots\n",
    "with open('./data/players_shots_clean_restricted.pickle', 'rb') as f:\n",
    "    players_shots = pickle.load(f)\n",
    "with open('./data/player_position.pickle', 'rb') as f:\n",
    "    players_position = pickle.load(f)"
   ]
  },
  {
   "cell_type": "code",
   "execution_count": 3,
   "id": "f84e9dca",
   "metadata": {},
   "outputs": [],
   "source": [
    "# VARIABLES\n",
    "X_MIN, X_MAX = (-250, 250) \n",
    "Y_MIN, Y_MAX = (0, 422.5)\n",
    "\n",
    "XX, YY = np.mgrid[0:1:201j, 0:1:201j]\n",
    "POS = np.vstack([XX.ravel(), YY.ravel()])"
   ]
  },
  {
   "cell_type": "code",
   "execution_count": 4,
   "id": "16114ac7",
   "metadata": {},
   "outputs": [],
   "source": [
    "# Functions\n",
    "def estimate_density(df):\n",
    "    X = df.LOC_X.to_numpy(dtype='float')\n",
    "    Y = df.LOC_Y.to_numpy(dtype='float')\n",
    "    \n",
    "    # Rescaling to [0, 1]\n",
    "    X = (X - X_MIN) / (X_MAX - X_MIN)\n",
    "    Y = (Y - Y_MIN) / (Y_MAX - Y_MIN)\n",
    "    \n",
    "    # Kernel density estimates\n",
    "    values = np.vstack([X, Y])\n",
    "    kernel = scipy.stats.gaussian_kde(values, bw_method='silverman')\n",
    "    density = kernel(POS).T\n",
    "    density[density < 1e-16] = 0\n",
    "    return np.reshape(density, XX.shape)"
   ]
  },
  {
   "cell_type": "code",
   "execution_count": 6,
   "id": "5e04bd68",
   "metadata": {},
   "outputs": [],
   "source": [
    "# not_centers = players_position.query(\n",
    "#     \"POSITION != 'Center' & POSITION != 'Center-Forward' & POSITION != 'Forward-Center'\"\n",
    "# )\n",
    "# players_shots = players_shots.loc[[i in not_centers.PLAYER_ID.values for i in players_shots.PLAYER_ID.values]]\n",
    "# players_shots = players_shots.query(\"PLAYER_NAME != 'Mitchell Robinson'\")"
   ]
  },
  {
   "cell_type": "code",
   "execution_count": 5,
   "id": "5c0eb00d",
   "metadata": {},
   "outputs": [],
   "source": [
    "# Select only the players with more than 100 made shots not in the restricted area.\n",
    "cond = players_shots\\\n",
    "    .groupby('PLAYER_ID')\\\n",
    "    .sum()['SHOT_MADE_FLAG'].values > 100\n",
    "players = players_shots.groupby('PLAYER_ID').sum().index.to_numpy()[cond]\n",
    "players_shots = players_shots[players_shots.PLAYER_ID.isin(players)]"
   ]
  },
  {
   "cell_type": "code",
   "execution_count": 8,
   "id": "ebe49fa9",
   "metadata": {},
   "outputs": [
    {
     "data": {
      "text/plain": [
       "119"
      ]
     },
     "execution_count": 8,
     "metadata": {},
     "output_type": "execute_result"
    }
   ],
   "source": [
    "len(players)"
   ]
  },
  {
   "cell_type": "code",
   "execution_count": 12,
   "id": "d553b63f",
   "metadata": {},
   "outputs": [
    {
     "data": {
      "text/plain": [
       "0.3852353164970716"
      ]
     },
     "execution_count": 12,
     "metadata": {},
     "output_type": "execute_result"
    }
   ],
   "source": [
    "71893 / 186621"
   ]
  },
  {
   "cell_type": "code",
   "execution_count": 11,
   "id": "0963813b",
   "metadata": {},
   "outputs": [
    {
     "data": {
      "text/html": [
       "<div>\n",
       "<style scoped>\n",
       "    .dataframe tbody tr th:only-of-type {\n",
       "        vertical-align: middle;\n",
       "    }\n",
       "\n",
       "    .dataframe tbody tr th {\n",
       "        vertical-align: top;\n",
       "    }\n",
       "\n",
       "    .dataframe thead th {\n",
       "        text-align: right;\n",
       "    }\n",
       "</style>\n",
       "<table border=\"1\" class=\"dataframe\">\n",
       "  <thead>\n",
       "    <tr style=\"text-align: right;\">\n",
       "      <th></th>\n",
       "      <th>PLAYER_ID</th>\n",
       "      <th>PLAYER_NAME</th>\n",
       "      <th>LOC_X</th>\n",
       "      <th>LOC_Y</th>\n",
       "      <th>SHOT_MADE_FLAG</th>\n",
       "    </tr>\n",
       "  </thead>\n",
       "  <tbody>\n",
       "    <tr>\n",
       "      <th>0</th>\n",
       "      <td>1628389</td>\n",
       "      <td>Bam Adebayo</td>\n",
       "      <td>-187</td>\n",
       "      <td>402</td>\n",
       "      <td>0</td>\n",
       "    </tr>\n",
       "    <tr>\n",
       "      <th>25</th>\n",
       "      <td>1628389</td>\n",
       "      <td>Bam Adebayo</td>\n",
       "      <td>-94</td>\n",
       "      <td>141</td>\n",
       "      <td>0</td>\n",
       "    </tr>\n",
       "    <tr>\n",
       "      <th>51</th>\n",
       "      <td>1628389</td>\n",
       "      <td>Bam Adebayo</td>\n",
       "      <td>85</td>\n",
       "      <td>108</td>\n",
       "      <td>1</td>\n",
       "    </tr>\n",
       "    <tr>\n",
       "      <th>65</th>\n",
       "      <td>1628389</td>\n",
       "      <td>Bam Adebayo</td>\n",
       "      <td>81</td>\n",
       "      <td>173</td>\n",
       "      <td>0</td>\n",
       "    </tr>\n",
       "    <tr>\n",
       "      <th>83</th>\n",
       "      <td>1628389</td>\n",
       "      <td>Bam Adebayo</td>\n",
       "      <td>65</td>\n",
       "      <td>120</td>\n",
       "      <td>1</td>\n",
       "    </tr>\n",
       "    <tr>\n",
       "      <th>...</th>\n",
       "      <td>...</td>\n",
       "      <td>...</td>\n",
       "      <td>...</td>\n",
       "      <td>...</td>\n",
       "      <td>...</td>\n",
       "    </tr>\n",
       "    <tr>\n",
       "      <th>1377</th>\n",
       "      <td>1629027</td>\n",
       "      <td>Trae Young</td>\n",
       "      <td>-142</td>\n",
       "      <td>329</td>\n",
       "      <td>0</td>\n",
       "    </tr>\n",
       "    <tr>\n",
       "      <th>1379</th>\n",
       "      <td>1629027</td>\n",
       "      <td>Trae Young</td>\n",
       "      <td>54</td>\n",
       "      <td>304</td>\n",
       "      <td>0</td>\n",
       "    </tr>\n",
       "    <tr>\n",
       "      <th>1381</th>\n",
       "      <td>1629027</td>\n",
       "      <td>Trae Young</td>\n",
       "      <td>115</td>\n",
       "      <td>135</td>\n",
       "      <td>1</td>\n",
       "    </tr>\n",
       "    <tr>\n",
       "      <th>1386</th>\n",
       "      <td>1629027</td>\n",
       "      <td>Trae Young</td>\n",
       "      <td>-104</td>\n",
       "      <td>294</td>\n",
       "      <td>0</td>\n",
       "    </tr>\n",
       "    <tr>\n",
       "      <th>1387</th>\n",
       "      <td>1629027</td>\n",
       "      <td>Trae Young</td>\n",
       "      <td>-67</td>\n",
       "      <td>306</td>\n",
       "      <td>1</td>\n",
       "    </tr>\n",
       "  </tbody>\n",
       "</table>\n",
       "<p>186621 rows × 5 columns</p>\n",
       "</div>"
      ],
      "text/plain": [
       "     PLAYER_ID  PLAYER_NAME LOC_X LOC_Y SHOT_MADE_FLAG\n",
       "0      1628389  Bam Adebayo  -187   402              0\n",
       "25     1628389  Bam Adebayo   -94   141              0\n",
       "51     1628389  Bam Adebayo    85   108              1\n",
       "65     1628389  Bam Adebayo    81   173              0\n",
       "83     1628389  Bam Adebayo    65   120              1\n",
       "...        ...          ...   ...   ...            ...\n",
       "1377   1629027   Trae Young  -142   329              0\n",
       "1379   1629027   Trae Young    54   304              0\n",
       "1381   1629027   Trae Young   115   135              1\n",
       "1386   1629027   Trae Young  -104   294              0\n",
       "1387   1629027   Trae Young   -67   306              1\n",
       "\n",
       "[186621 rows x 5 columns]"
      ]
     },
     "execution_count": 11,
     "metadata": {},
     "output_type": "execute_result"
    }
   ],
   "source": [
    "players_shots"
   ]
  },
  {
   "cell_type": "code",
   "execution_count": 163,
   "id": "160a6fbe",
   "metadata": {},
   "outputs": [],
   "source": [
    "shots_density = players_shots\\\n",
    "    .groupby('PLAYER_ID')\\\n",
    "    .apply(estimate_density)"
   ]
  },
  {
   "cell_type": "code",
   "execution_count": 164,
   "id": "a1d9467f",
   "metadata": {},
   "outputs": [],
   "source": [
    "shots_density_df = players_shots[['PLAYER_ID', 'PLAYER_NAME']]\\\n",
    "    .drop_duplicates()\\\n",
    "    .join(pd.DataFrame({'DENSITY': shots_density}), on='PLAYER_ID')\\\n",
    "    .reset_index()\\\n",
    "    .drop('index', axis=1)"
   ]
  },
  {
   "cell_type": "code",
   "execution_count": 165,
   "id": "36a0cc9c",
   "metadata": {},
   "outputs": [],
   "source": [
    "# Save dataframe\n",
    "with open('./data/players_shots_density_restricted.pickle', 'wb') as f:\n",
    "    pickle.dump(shots_density_df, f, protocol=pickle.HIGHEST_PROTOCOL)"
   ]
  },
  {
   "cell_type": "code",
   "execution_count": 166,
   "id": "1dda70cd",
   "metadata": {},
   "outputs": [],
   "source": [
    "# Now, we do the same for the made shots.\n",
    "players_shots_made = players_shots[players_shots.SHOT_MADE_FLAG == 1]"
   ]
  },
  {
   "cell_type": "code",
   "execution_count": 167,
   "id": "3578e11a",
   "metadata": {},
   "outputs": [],
   "source": [
    "shots_density_made = players_shots_made\\\n",
    "    .groupby('PLAYER_ID')\\\n",
    "    .apply(estimate_density)"
   ]
  },
  {
   "cell_type": "code",
   "execution_count": 168,
   "id": "310768ec",
   "metadata": {},
   "outputs": [],
   "source": [
    "shots_density_made_df = players_shots[['PLAYER_ID', 'PLAYER_NAME']]\\\n",
    "    .drop_duplicates()\\\n",
    "    .join(pd.DataFrame({'DENSITY': shots_density_made}), on='PLAYER_ID')\\\n",
    "    .reset_index()\\\n",
    "    .drop('index', axis=1)"
   ]
  },
  {
   "cell_type": "code",
   "execution_count": 169,
   "id": "ef8c480a",
   "metadata": {},
   "outputs": [],
   "source": [
    "# Save dataframe\n",
    "with open('./data/players_shots_density_made_restricted.pickle', 'wb') as f:\n",
    "    pickle.dump(shots_density_made_df, f, protocol=pickle.HIGHEST_PROTOCOL)"
   ]
  }
 ],
 "metadata": {
  "kernelspec": {
   "display_name": "Python 3.9",
   "language": "python",
   "name": "python3.9"
  },
  "language_info": {
   "codemirror_mode": {
    "name": "ipython",
    "version": 3
   },
   "file_extension": ".py",
   "mimetype": "text/x-python",
   "name": "python",
   "nbconvert_exporter": "python",
   "pygments_lexer": "ipython3",
   "version": "3.9.11"
  }
 },
 "nbformat": 4,
 "nbformat_minor": 5
}
