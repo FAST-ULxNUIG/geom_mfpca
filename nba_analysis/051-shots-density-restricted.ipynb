{
 "cells": [
  {
   "cell_type": "code",
   "execution_count": 1,
   "id": "9875ac6c",
   "metadata": {},
   "outputs": [],
   "source": [
    "# Load packages\n",
    "import matplotlib.pyplot as plt\n",
    "import numpy as np\n",
    "import pandas as pd\n",
    "import pickle\n",
    "import scipy.stats\n",
    "\n",
    "from sklearn.neighbors import KernelDensity"
   ]
  },
  {
   "cell_type": "code",
   "execution_count": 2,
   "id": "85216831",
   "metadata": {},
   "outputs": [],
   "source": [
    "# Load shots\n",
    "with open('./data/players_shots_clean_restricted.pickle', 'rb') as f:\n",
    "    players_shots = pickle.load(f)\n",
    "with open('./data/player_position.pickle', 'rb') as f:\n",
    "    players_position = pickle.load(f)"
   ]
  },
  {
   "cell_type": "code",
   "execution_count": 3,
   "id": "f84e9dca",
   "metadata": {},
   "outputs": [],
   "source": [
    "# VARIABLES\n",
    "X_MIN, X_MAX = (-250, 250) \n",
    "Y_MIN, Y_MAX = (0, 422.5)\n",
    "\n",
    "XX, YY = np.mgrid[0:1:201j, 0:1:201j]\n",
    "POS = np.vstack([XX.ravel(), YY.ravel()])"
   ]
  },
  {
   "cell_type": "code",
   "execution_count": 4,
   "id": "16114ac7",
   "metadata": {},
   "outputs": [],
   "source": [
    "# Function to estimate the density of the shots\n",
    "def estimate_density(df):\n",
    "    X = df.LOC_X.to_numpy(dtype='float')\n",
    "    Y = df.LOC_Y.to_numpy(dtype='float')\n",
    "    \n",
    "    # Rescaling to [0, 1]\n",
    "    X = (X - X_MIN) / (X_MAX - X_MIN)\n",
    "    Y = (Y - Y_MIN) / (Y_MAX - Y_MIN)\n",
    "    \n",
    "    # Kernel density estimates\n",
    "    values = np.vstack([X, Y])\n",
    "    kernel = scipy.stats.gaussian_kde(values, bw_method='silverman')\n",
    "    density = kernel(POS).T\n",
    "    density[density < 1e-16] = 0\n",
    "    return np.reshape(density, XX.shape)"
   ]
  },
  {
   "cell_type": "code",
   "execution_count": 5,
   "id": "5c0eb00d",
   "metadata": {},
   "outputs": [],
   "source": [
    "# Select only the players with more than 100 made shots not in the restricted area.\n",
    "cond = players_shots\\\n",
    "    .groupby('PLAYER_ID')\\\n",
    "    .sum()['SHOT_MADE_FLAG'].values > 100\n",
    "players = players_shots.groupby('PLAYER_ID').sum().index.to_numpy()[cond]\n",
    "players_shots = players_shots[players_shots.PLAYER_ID.isin(players)]"
   ]
  },
  {
   "cell_type": "code",
   "execution_count": 163,
   "id": "160a6fbe",
   "metadata": {},
   "outputs": [],
   "source": [
    "# Estimate the density of the shots (attempted) for each player.\n",
    "shots_density = players_shots\\\n",
    "    .groupby('PLAYER_ID')\\\n",
    "    .apply(estimate_density)"
   ]
  },
  {
   "cell_type": "code",
   "execution_count": 164,
   "id": "a1d9467f",
   "metadata": {},
   "outputs": [],
   "source": [
    "# Create the dataframe\n",
    "shots_density_df = players_shots[['PLAYER_ID', 'PLAYER_NAME']]\\\n",
    "    .drop_duplicates()\\\n",
    "    .join(pd.DataFrame({'DENSITY': shots_density}), on='PLAYER_ID')\\\n",
    "    .reset_index()\\\n",
    "    .drop('index', axis=1)"
   ]
  },
  {
   "cell_type": "code",
   "execution_count": 165,
   "id": "36a0cc9c",
   "metadata": {},
   "outputs": [],
   "source": [
    "# Save dataframe\n",
    "with open('./data/players_shots_density_restricted.pickle', 'wb') as f:\n",
    "    pickle.dump(shots_density_df, f, protocol=pickle.HIGHEST_PROTOCOL)"
   ]
  },
  {
   "cell_type": "code",
   "execution_count": 166,
   "id": "1dda70cd",
   "metadata": {},
   "outputs": [],
   "source": [
    "# Now, we do the same for the made shots.\n",
    "players_shots_made = players_shots[players_shots.SHOT_MADE_FLAG == 1]"
   ]
  },
  {
   "cell_type": "code",
   "execution_count": 167,
   "id": "3578e11a",
   "metadata": {},
   "outputs": [],
   "source": [
    "# Estimate the density of the shots (made) for each player.\n",
    "shots_density_made = players_shots_made\\\n",
    "    .groupby('PLAYER_ID')\\\n",
    "    .apply(estimate_density)"
   ]
  },
  {
   "cell_type": "code",
   "execution_count": 168,
   "id": "310768ec",
   "metadata": {},
   "outputs": [],
   "source": [
    "# Create the dataframe\n",
    "shots_density_made_df = players_shots[['PLAYER_ID', 'PLAYER_NAME']]\\\n",
    "    .drop_duplicates()\\\n",
    "    .join(pd.DataFrame({'DENSITY': shots_density_made}), on='PLAYER_ID')\\\n",
    "    .reset_index()\\\n",
    "    .drop('index', axis=1)"
   ]
  },
  {
   "cell_type": "code",
   "execution_count": 169,
   "id": "ef8c480a",
   "metadata": {},
   "outputs": [],
   "source": [
    "# Save dataframe\n",
    "with open('./data/players_shots_density_made_restricted.pickle', 'wb') as f:\n",
    "    pickle.dump(shots_density_made_df, f, protocol=pickle.HIGHEST_PROTOCOL)"
   ]
  }
 ],
 "metadata": {
  "kernelspec": {
   "display_name": "Python 3.9",
   "language": "python",
   "name": "python3.9"
  },
  "language_info": {
   "codemirror_mode": {
    "name": "ipython",
    "version": 3
   },
   "file_extension": ".py",
   "mimetype": "text/x-python",
   "name": "python",
   "nbconvert_exporter": "python",
   "pygments_lexer": "ipython3",
   "version": "3.9.11"
  }
 },
 "nbformat": 4,
 "nbformat_minor": 5
}
