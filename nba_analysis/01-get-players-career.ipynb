{
 "cells": [
  {
   "cell_type": "code",
   "execution_count": 34,
   "id": "55ff63d4",
   "metadata": {},
   "outputs": [],
   "source": [
    "# Load packages\n",
    "import json\n",
    "import numpy as np\n",
    "import pandas as pd\n",
    "import pickle\n",
    "import requests\n",
    "\n",
    "from nba_api.stats.endpoints import playercareerstats\n",
    "from nba_api.stats.static import players, teams\n",
    "\n",
    "from nba import NbaScraper, ShotCharts"
   ]
  },
  {
   "cell_type": "code",
   "execution_count": 4,
   "id": "bf1b6d8e",
   "metadata": {},
   "outputs": [],
   "source": [
    "# Get active players and convert it to dataframe\n",
    "players_json = players.get_active_players()\n",
    "players_df = pd.DataFrame(players_json)\n",
    "\n",
    "# Get the teams and convert it to dataframe\n",
    "teams_json = teams.get_teams()\n",
    "teams_df = pd.DataFrame(teams_json)"
   ]
  },
  {
   "cell_type": "code",
   "execution_count": 32,
   "id": "84bfad57",
   "metadata": {},
   "outputs": [],
   "source": [
    "# For each players, get their career.\n",
    "players_career = [\n",
    "    {\n",
    "        'id': pp['id'],\n",
    "        'full_name': pp['full_name'],\n",
    "        'career': NbaScraper.get_player_career(pp['id'])\n",
    "    } for pp in players_json\n",
    "]"
   ]
  },
  {
   "cell_type": "code",
   "execution_count": 35,
   "id": "dfd734dc",
   "metadata": {},
   "outputs": [],
   "source": [
    "# Save players careers\n",
    "with open('./data/players_career.pickle', 'wb') as f:\n",
    "    pickle.dump(players_career, f, protocol=pickle.HIGHEST_PROTOCOL)"
   ]
  }
 ],
 "metadata": {
  "kernelspec": {
   "display_name": "Python 3.9",
   "language": "python",
   "name": "python3.9"
  },
  "language_info": {
   "codemirror_mode": {
    "name": "ipython",
    "version": 3
   },
   "file_extension": ".py",
   "mimetype": "text/x-python",
   "name": "python",
   "nbconvert_exporter": "python",
   "pygments_lexer": "ipython3",
   "version": "3.9.11"
  }
 },
 "nbformat": 4,
 "nbformat_minor": 5
}
