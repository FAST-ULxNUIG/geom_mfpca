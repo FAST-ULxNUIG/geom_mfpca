{
 "cells": [
  {
   "cell_type": "code",
   "execution_count": 1,
   "id": "b8a25967",
   "metadata": {},
   "outputs": [],
   "source": [
    "# Load packages\n",
    "import matplotlib.pyplot as plt\n",
    "import numpy as np\n",
    "import pandas as pd\n",
    "import pickle\n",
    "\n",
    "from FDApy import DenseFunctionalData, MultivariateFunctionalData\n",
    "from FDApy.representation import DenseArgvals, DenseValues\n",
    "from FDApy.preprocessing import MFPCA\n",
    "from FDApy.visualization import plot, plot_multivariate"
   ]
  },
  {
   "cell_type": "code",
   "execution_count": 2,
   "id": "c69bebb4",
   "metadata": {},
   "outputs": [],
   "source": [
    "# Load shots\n",
    "with open('./data/players_shots_density.pickle', 'rb') as f:\n",
    "    players_shots_density = pickle.load(f)\n",
    "with open('./data/players_shots_density_made.pickle', 'rb') as f:\n",
    "    players_shots_density_made = pickle.load(f)"
   ]
  },
  {
   "cell_type": "code",
   "execution_count": 3,
   "id": "08b36f3b",
   "metadata": {},
   "outputs": [],
   "source": [
    "# Sort by ID\n",
    "players_shots_density = players_shots_density.sort_values(by='PLAYER_ID')\n",
    "players_shots_density_made = players_shots_density_made.sort_values(by='PLAYER_ID')"
   ]
  },
  {
   "cell_type": "code",
   "execution_count": 4,
   "id": "af07d3c7",
   "metadata": {},
   "outputs": [],
   "source": [
    "# Create functional data\n",
    "argvals = DenseArgvals({\n",
    "    'input_dim_0': np.linspace(0, 1, 51),\n",
    "    'input_dim_1': np.linspace(0, 1, 51)\n",
    "})\n",
    "\n",
    "values_shots = DenseValues(\n",
    "    np.stack(players_shots_density['DENSITY'].to_numpy())\n",
    ")\n",
    "\n",
    "values_made = DenseValues(\n",
    "    np.stack(players_shots_density_made['DENSITY'].to_numpy())\n",
    ")\n",
    "\n",
    "\n",
    "fdata_shots = DenseFunctionalData(argvals, values_shots)\n",
    "fdata_made = DenseFunctionalData(argvals, values_made)\n",
    "fdata = MultivariateFunctionalData([fdata_shots, fdata_made])"
   ]
  },
  {
   "cell_type": "code",
   "execution_count": 5,
   "id": "ca2eb501",
   "metadata": {},
   "outputs": [
    {
     "name": "stderr",
     "output_type": "stream",
     "text": [
      "/Users/steven/.virtualenvs/test_fdapy_venv/lib/python3.9/site-packages/FDApy/representation/functional_data.py:1119: UserWarning: The estimation of the variance of the noise is not performed for data with dimension larger than 1 and is set to 0.\n",
      "  warnings.warn(\n"
     ]
    }
   ],
   "source": [
    "# MFPCA\n",
    "univariate_expansions = [\n",
    "    {'method': 'FCPTPA', 'n_components': 30},\n",
    "    {'method': 'FCPTPA', 'n_components': 30}\n",
    "]\n",
    "mfpca = MFPCA(n_components=20, method='covariance', univariate_expansions=univariate_expansions)\n",
    "mfpca.fit(fdata)"
   ]
  },
  {
   "cell_type": "code",
   "execution_count": 6,
   "id": "a00c6b51",
   "metadata": {},
   "outputs": [],
   "source": [
    "# Compute the scores\n",
    "scores = mfpca.transform()"
   ]
  },
  {
   "cell_type": "code",
   "execution_count": 7,
   "id": "6ae8f3f1",
   "metadata": {},
   "outputs": [],
   "source": [
    "# Inverse transform\n",
    "fdata_recons = mfpca.inverse_transform(scores)"
   ]
  },
  {
   "cell_type": "code",
   "execution_count": 8,
   "id": "0e3780f2",
   "metadata": {},
   "outputs": [],
   "source": [
    "# Save MFPCA results\n",
    "with open('./data/MFPCA_FCPTPA.pickle', 'wb') as f:\n",
    "    pickle.dump(mfpca, f, protocol=pickle.HIGHEST_PROTOCOL)"
   ]
  },
  {
   "cell_type": "code",
   "execution_count": 9,
   "id": "cd58eefb",
   "metadata": {},
   "outputs": [],
   "source": [
    "# Save scores\n",
    "with open('./data/scores_FCPTPA.pickle', 'wb') as f:\n",
    "    pickle.dump(scores, f, protocol=pickle.HIGHEST_PROTOCOL)"
   ]
  },
  {
   "cell_type": "code",
   "execution_count": 10,
   "id": "73ec1718",
   "metadata": {},
   "outputs": [],
   "source": [
    "# Save reconstruction\n",
    "with open('./data/MFPCA_FCPTPA_reconstruction.pickle', 'wb') as f:\n",
    "    pickle.dump(fdata_recons, f, protocol=pickle.HIGHEST_PROTOCOL)"
   ]
  }
 ],
 "metadata": {
  "kernelspec": {
   "display_name": "Python 3.9",
   "language": "python",
   "name": "python3.9"
  },
  "language_info": {
   "codemirror_mode": {
    "name": "ipython",
    "version": 3
   },
   "file_extension": ".py",
   "mimetype": "text/x-python",
   "name": "python",
   "nbconvert_exporter": "python",
   "pygments_lexer": "ipython3",
   "version": "3.9.11"
  }
 },
 "nbformat": 4,
 "nbformat_minor": 5
}
