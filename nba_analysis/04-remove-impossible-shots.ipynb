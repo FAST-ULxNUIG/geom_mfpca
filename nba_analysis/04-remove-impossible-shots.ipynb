{
 "cells": [
  {
   "cell_type": "code",
   "execution_count": 1,
   "id": "2239e91d",
   "metadata": {},
   "outputs": [],
   "source": [
    "# Load packages\n",
    "import json\n",
    "import matplotlib.pyplot as plt\n",
    "import numpy as np\n",
    "import pandas as pd\n",
    "import pickle\n",
    "import requests\n",
    "\n",
    "from nba_api.stats.endpoints import shotchartdetail\n",
    "from nba_api.stats.static import players, teams\n",
    "\n",
    "from nba import NbaScraper, ShotCharts"
   ]
  },
  {
   "cell_type": "code",
   "execution_count": 2,
   "id": "3cf71d45",
   "metadata": {},
   "outputs": [],
   "source": [
    "# Load shots\n",
    "with open('./data/player_shots_subset.pickle', 'rb') as f:\n",
    "    players_shots = pickle.load(f)"
   ]
  },
  {
   "cell_type": "code",
   "execution_count": 3,
   "id": "ce80344e",
   "metadata": {},
   "outputs": [],
   "source": [
    "# Add 60 to LOC_Y to fit on the court\n",
    "players_shots.LOC_Y = players_shots.LOC_Y + 60"
   ]
  },
  {
   "cell_type": "code",
   "execution_count": 4,
   "id": "75319862",
   "metadata": {},
   "outputs": [
    {
     "data": {
      "text/html": [
       "<div>\n",
       "<style scoped>\n",
       "    .dataframe tbody tr th:only-of-type {\n",
       "        vertical-align: middle;\n",
       "    }\n",
       "\n",
       "    .dataframe tbody tr th {\n",
       "        vertical-align: top;\n",
       "    }\n",
       "\n",
       "    .dataframe thead th {\n",
       "        text-align: right;\n",
       "    }\n",
       "</style>\n",
       "<table border=\"1\" class=\"dataframe\">\n",
       "  <thead>\n",
       "    <tr style=\"text-align: right;\">\n",
       "      <th></th>\n",
       "      <th>PLAYER_ID</th>\n",
       "      <th>PLAYER_NAME</th>\n",
       "      <th>LOC_X</th>\n",
       "      <th>LOC_Y</th>\n",
       "      <th>SHOT_MADE_FLAG</th>\n",
       "    </tr>\n",
       "  </thead>\n",
       "  <tbody>\n",
       "    <tr>\n",
       "      <th>0</th>\n",
       "      <td>203500</td>\n",
       "      <td>Steven Adams</td>\n",
       "      <td>1</td>\n",
       "      <td>180</td>\n",
       "      <td>0</td>\n",
       "    </tr>\n",
       "    <tr>\n",
       "      <th>1</th>\n",
       "      <td>203500</td>\n",
       "      <td>Steven Adams</td>\n",
       "      <td>-22</td>\n",
       "      <td>87</td>\n",
       "      <td>0</td>\n",
       "    </tr>\n",
       "    <tr>\n",
       "      <th>2</th>\n",
       "      <td>203500</td>\n",
       "      <td>Steven Adams</td>\n",
       "      <td>2</td>\n",
       "      <td>124</td>\n",
       "      <td>0</td>\n",
       "    </tr>\n",
       "    <tr>\n",
       "      <th>3</th>\n",
       "      <td>203500</td>\n",
       "      <td>Steven Adams</td>\n",
       "      <td>12</td>\n",
       "      <td>66</td>\n",
       "      <td>1</td>\n",
       "    </tr>\n",
       "    <tr>\n",
       "      <th>4</th>\n",
       "      <td>203500</td>\n",
       "      <td>Steven Adams</td>\n",
       "      <td>12</td>\n",
       "      <td>111</td>\n",
       "      <td>0</td>\n",
       "    </tr>\n",
       "    <tr>\n",
       "      <th>...</th>\n",
       "      <td>...</td>\n",
       "      <td>...</td>\n",
       "      <td>...</td>\n",
       "      <td>...</td>\n",
       "      <td>...</td>\n",
       "    </tr>\n",
       "    <tr>\n",
       "      <th>509</th>\n",
       "      <td>1627826</td>\n",
       "      <td>Ivica Zubac</td>\n",
       "      <td>-1</td>\n",
       "      <td>118</td>\n",
       "      <td>1</td>\n",
       "    </tr>\n",
       "    <tr>\n",
       "      <th>510</th>\n",
       "      <td>1627826</td>\n",
       "      <td>Ivica Zubac</td>\n",
       "      <td>34</td>\n",
       "      <td>78</td>\n",
       "      <td>0</td>\n",
       "    </tr>\n",
       "    <tr>\n",
       "      <th>511</th>\n",
       "      <td>1627826</td>\n",
       "      <td>Ivica Zubac</td>\n",
       "      <td>4</td>\n",
       "      <td>59</td>\n",
       "      <td>1</td>\n",
       "    </tr>\n",
       "    <tr>\n",
       "      <th>512</th>\n",
       "      <td>1627826</td>\n",
       "      <td>Ivica Zubac</td>\n",
       "      <td>11</td>\n",
       "      <td>153</td>\n",
       "      <td>1</td>\n",
       "    </tr>\n",
       "    <tr>\n",
       "      <th>513</th>\n",
       "      <td>1627826</td>\n",
       "      <td>Ivica Zubac</td>\n",
       "      <td>-6</td>\n",
       "      <td>75</td>\n",
       "      <td>1</td>\n",
       "    </tr>\n",
       "  </tbody>\n",
       "</table>\n",
       "<p>493723 rows × 5 columns</p>\n",
       "</div>"
      ],
      "text/plain": [
       "    PLAYER_ID   PLAYER_NAME LOC_X LOC_Y SHOT_MADE_FLAG\n",
       "0      203500  Steven Adams     1   180              0\n",
       "1      203500  Steven Adams   -22    87              0\n",
       "2      203500  Steven Adams     2   124              0\n",
       "3      203500  Steven Adams    12    66              1\n",
       "4      203500  Steven Adams    12   111              0\n",
       "..        ...           ...   ...   ...            ...\n",
       "509   1627826   Ivica Zubac    -1   118              1\n",
       "510   1627826   Ivica Zubac    34    78              0\n",
       "511   1627826   Ivica Zubac     4    59              1\n",
       "512   1627826   Ivica Zubac    11   153              1\n",
       "513   1627826   Ivica Zubac    -6    75              1\n",
       "\n",
       "[493723 rows x 5 columns]"
      ]
     },
     "execution_count": 4,
     "metadata": {},
     "output_type": "execute_result"
    }
   ],
   "source": [
    "players_shots"
   ]
  },
  {
   "cell_type": "code",
   "execution_count": 5,
   "id": "a178ca1d",
   "metadata": {},
   "outputs": [
    {
     "data": {
      "text/html": [
       "<div>\n",
       "<style scoped>\n",
       "    .dataframe tbody tr th:only-of-type {\n",
       "        vertical-align: middle;\n",
       "    }\n",
       "\n",
       "    .dataframe tbody tr th {\n",
       "        vertical-align: top;\n",
       "    }\n",
       "\n",
       "    .dataframe thead th {\n",
       "        text-align: right;\n",
       "    }\n",
       "</style>\n",
       "<table border=\"1\" class=\"dataframe\">\n",
       "  <thead>\n",
       "    <tr style=\"text-align: right;\">\n",
       "      <th></th>\n",
       "      <th>PLAYER_ID</th>\n",
       "      <th>PLAYER_NAME</th>\n",
       "      <th>LOC_X</th>\n",
       "      <th>LOC_Y</th>\n",
       "      <th>SHOT_MADE_FLAG</th>\n",
       "    </tr>\n",
       "  </thead>\n",
       "  <tbody>\n",
       "  </tbody>\n",
       "</table>\n",
       "</div>"
      ],
      "text/plain": [
       "Empty DataFrame\n",
       "Columns: [PLAYER_ID, PLAYER_NAME, LOC_X, LOC_Y, SHOT_MADE_FLAG]\n",
       "Index: []"
      ]
     },
     "execution_count": 5,
     "metadata": {},
     "output_type": "execute_result"
    }
   ],
   "source": [
    "players_shots[players_shots.LOC_Y < 0]"
   ]
  },
  {
   "cell_type": "code",
   "execution_count": 6,
   "id": "0ba9c132",
   "metadata": {},
   "outputs": [],
   "source": [
    "# Remove impossible shots\n",
    "X_COND = (-250 < players_shots.LOC_X) & (players_shots.LOC_X < 250)\n",
    "Y_COND = (0 < players_shots.LOC_Y) & (players_shots.LOC_Y < 422.5)\n",
    "players_shots_clean = players_shots[X_COND & Y_COND]"
   ]
  },
  {
   "cell_type": "code",
   "execution_count": 7,
   "id": "01453724",
   "metadata": {},
   "outputs": [],
   "source": [
    "# Save dataframe\n",
    "with open('./data/players_shots_clean.pickle', 'wb') as f:\n",
    "    pickle.dump(players_shots_clean, f, protocol=pickle.HIGHEST_PROTOCOL)"
   ]
  },
  {
   "cell_type": "code",
   "execution_count": 7,
   "id": "58457e78",
   "metadata": {},
   "outputs": [],
   "source": [
    "# Remove restricted area\n",
    "X_COND = (-45 > players_shots_clean.LOC_X) | (players_shots_clean.LOC_X > 45)\n",
    "Y_COND = (20 > players_shots_clean.LOC_Y) | (players_shots_clean.LOC_Y > 105)\n",
    "players_shots_restricted = players_shots_clean[X_COND & Y_COND]"
   ]
  },
  {
   "cell_type": "code",
   "execution_count": 13,
   "id": "3bc2d045",
   "metadata": {},
   "outputs": [],
   "source": [
    "# Save dataframe\n",
    "with open('./data/players_shots_clean_restricted.pickle', 'wb') as f:\n",
    "    pickle.dump(players_shots_restricted, f, protocol=pickle.HIGHEST_PROTOCOL)"
   ]
  }
 ],
 "metadata": {
  "kernelspec": {
   "display_name": "Python 3.9",
   "language": "python",
   "name": "python3.9"
  },
  "language_info": {
   "codemirror_mode": {
    "name": "ipython",
    "version": 3
   },
   "file_extension": ".py",
   "mimetype": "text/x-python",
   "name": "python",
   "nbconvert_exporter": "python",
   "pygments_lexer": "ipython3",
   "version": "3.9.11"
  }
 },
 "nbformat": 4,
 "nbformat_minor": 5
}
