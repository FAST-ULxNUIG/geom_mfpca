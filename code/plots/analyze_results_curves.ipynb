{
 "cells": [
  {
   "cell_type": "code",
   "execution_count": 1,
   "id": "f5aed78f",
   "metadata": {},
   "outputs": [],
   "source": [
    "import matplotlib.pyplot as plt\n",
    "import matplotlib as mpl\n",
    "import numpy as np\n",
    "import os\n",
    "import pandas as pd\n",
    "import pickle\n",
    "import re\n",
    "import seaborn as sns\n",
    "\n",
    "plt.style.use('./stylefiles/plot.mplstyle')\n",
    "mpl.rcParams['xtick.labelsize'] = 10"
   ]
  },
  {
   "cell_type": "code",
   "execution_count": 2,
   "id": "e1a86d5a",
   "metadata": {},
   "outputs": [],
   "source": [
    "PATH = './results/base/'"
   ]
  },
  {
   "cell_type": "code",
   "execution_count": 3,
   "id": "d23ee73a",
   "metadata": {
    "scrolled": true
   },
   "outputs": [],
   "source": [
    "# List the files\n",
    "results_folders = os.listdir(PATH)\n",
    "\n",
    "# Load the data\n",
    "list_results = []\n",
    "for folder in results_folders:\n",
    "    if folder[0] == '.':\n",
    "        continue\n",
    "    folder_split = re.split(\"_\", folder)\n",
    "    N = int(folder_split[0][1:])\n",
    "    M = folder_split[1][1:]\n",
    "    \n",
    "    files = os.listdir(PATH + folder)\n",
    "    list_MRSE = len(files) * [None]\n",
    "    for idx, file in enumerate(files):\n",
    "        with open(PATH + folder + \"/\" + file, \"rb\") as f:\n",
    "            data = pickle.load(f)\n",
    "        errors = data['errors']\n",
    "        MRSE = {\n",
    "            'MRSEcov': errors['MRSE_cov'],\n",
    "            'MRSEpsplines': errors['MRSE_psplines'],\n",
    "            'MRSEgram': errors['MRSE_gram']\n",
    "        }\n",
    "        MRSE = pd.DataFrame.from_records([MRSE])\n",
    "        MRSE.insert(0, \"N\", N)\n",
    "        MRSE.insert(0, \"M\", M)\n",
    "        list_MRSE[idx] = MRSE\n",
    "    list_results.append(pd.concat(list_MRSE))\n",
    "results = pd.concat(list_results)"
   ]
  },
  {
   "cell_type": "code",
   "execution_count": 4,
   "id": "238dbcf9",
   "metadata": {},
   "outputs": [],
   "source": [
    "SORT_VALUES = ['11-11-21', '26-26-51', '101-51-201']\n",
    "\n",
    "results_pp = pd.melt(\n",
    "    results,\n",
    "    id_vars=['M', 'N'],\n",
    "    value_vars=['MRSEcov', 'MRSEpsplines', 'MRSEgram']\n",
    ")\n",
    "results_pp.M = results_pp.M.astype(\"category\")\n",
    "results_pp.M = results_pp.M.cat.set_categories(SORT_VALUES)\n",
    "results_pp = results_pp.sort_values(by=['N', 'M'])"
   ]
  },
  {
   "cell_type": "code",
   "execution_count": 7,
   "id": "97baa688",
   "metadata": {},
   "outputs": [],
   "source": [
    "gg = sns.catplot(\n",
    "    data=results_pp,\n",
    "    x=\"value\", y=\"variable\",\n",
    "    col=\"N\", row=\"M\",\n",
    "    kind=\"box\",\n",
    "    flierprops=dict(marker=\"+\", markerfacecolor=\"gray\", markersize=1),\n",
    "    fill=False,\n",
    "    color=\"#111111\",\n",
    "    height=2,\n",
    "    aspect=2\n",
    ")\n",
    "gg.set_titles(template=\"$N = {col_name} \\:|\\: M = {row_name}$\", size=12)\n",
    "gg.set(xlim=(1e-3, 1))\n",
    "gg.set_xlabels(\"MRSE (log scale)\", fontsize=10)\n",
    "gg.set_ylabels(\"\")\n",
    "gg.set_yticklabels([\"(Tensor) PCA\", \"2D/1D B-Splines\", \"Gram\"], size=10)\n",
    "for ax in gg.axes.flat:\n",
    "    #ax.axvline(x=1, color='r', lw=1, ls='--')\n",
    "    ax.set_xscale(\"log\")\n",
    "gg.fig.tight_layout()\n",
    "\n",
    "plt.savefig(\n",
    "    f'MRSE.eps',\n",
    "    format='eps',\n",
    "    bbox_inches='tight'\n",
    ")\n",
    "plt.close()"
   ]
  }
 ],
 "metadata": {
  "kernelspec": {
   "display_name": "Python 3.9",
   "language": "python",
   "name": "python3.9"
  },
  "language_info": {
   "codemirror_mode": {
    "name": "ipython",
    "version": 3
   },
   "file_extension": ".py",
   "mimetype": "text/x-python",
   "name": "python",
   "nbconvert_exporter": "python",
   "pygments_lexer": "ipython3",
   "version": "3.9.11"
  }
 },
 "nbformat": 4,
 "nbformat_minor": 5
}
