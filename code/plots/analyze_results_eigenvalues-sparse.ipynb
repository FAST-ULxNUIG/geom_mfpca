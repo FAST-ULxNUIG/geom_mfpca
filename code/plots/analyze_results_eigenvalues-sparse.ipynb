{
 "cells": [
  {
   "cell_type": "code",
   "execution_count": 1,
   "id": "f5aed78f",
   "metadata": {},
   "outputs": [],
   "source": [
    "import matplotlib.pyplot as plt\n",
    "import matplotlib as mpl\n",
    "import numpy as np\n",
    "import os\n",
    "import pandas as pd\n",
    "import pickle\n",
    "import re\n",
    "import seaborn as sns\n",
    "\n",
    "plt.style.use('./stylefiles/plot.mplstyle')\n",
    "mpl.rcParams['xtick.labelsize'] = 10\n",
    "mpl.rcParams['ytick.labelsize'] = 10"
   ]
  },
  {
   "cell_type": "code",
   "execution_count": 2,
   "id": "15033489",
   "metadata": {},
   "outputs": [],
   "source": [
    "PATH = './results/sparse/'"
   ]
  },
  {
   "cell_type": "code",
   "execution_count": 3,
   "id": "4f387fc8",
   "metadata": {},
   "outputs": [],
   "source": [
    "# List the files\n",
    "results_folders = os.listdir(PATH)\n",
    "\n",
    "# Load the data\n",
    "list_results = []\n",
    "for folder in results_folders:\n",
    "    if folder[0] == '.':\n",
    "        continue\n",
    "    folder_split = re.split(\"_\", folder)\n",
    "    N = int(folder_split[0][1:])\n",
    "    M = folder_split[1][1:]\n",
    "    eps = float(folder_split[2][3:])\n",
    "    \n",
    "    files = os.listdir(PATH + folder)\n",
    "    list_AE = len(files) * [None]\n",
    "    for idx, file in enumerate(files):\n",
    "        with open(PATH + folder + \"/\" + file, \"rb\") as f:\n",
    "            data = pickle.load(f)\n",
    "        errors = data['errors']\n",
    "        AE = {\n",
    "            'AEcov': errors['AE_cov'],\n",
    "            'AEpsplines': errors['AE_psplines'],\n",
    "            'AEgram': errors['AE_gram']\n",
    "        }\n",
    "        AE = pd.DataFrame.from_records(AE).reset_index()\n",
    "        AE.insert(0, \"eps\", eps)\n",
    "        AE.insert(0, \"N\", N)\n",
    "        AE.insert(0, \"M\", M)\n",
    "        list_AE[idx] = AE\n",
    "    list_results.append(pd.concat(list_AE))\n",
    "results = pd.concat(list_results)"
   ]
  },
  {
   "cell_type": "code",
   "execution_count": 4,
   "id": "2f234ae0",
   "metadata": {},
   "outputs": [],
   "source": [
    "SORT_VALUES = ['11-11-21', '26-26-51', '101-51-201']\n",
    "\n",
    "results_pp = pd.melt(\n",
    "    results,\n",
    "    id_vars=['index', 'M', 'N', 'eps'],\n",
    "    value_vars=['AEcov', 'AEpsplines', 'AEgram']\n",
    ")\n",
    "results_pp['index'] = results_pp['index'] + 1\n",
    "results_pp.M = results_pp.M.astype(\"category\")\n",
    "results_pp.M = results_pp.M.cat.set_categories(SORT_VALUES)\n",
    "results_pp = results_pp.sort_values(by=['N', 'M', 'eps'])"
   ]
  },
  {
   "cell_type": "code",
   "execution_count": 5,
   "id": "c707d57c",
   "metadata": {},
   "outputs": [],
   "source": [
    "gg = sns.catplot(\n",
    "    data=results_pp,\n",
    "    x=\"index\", y=\"value\", hue=\"variable\", row='eps',\n",
    "    kind=\"box\",\n",
    "    flierprops=dict(marker=\"+\", markerfacecolor=\"gray\", markersize=1),\n",
    "    height=2,\n",
    "    aspect=2\n",
    ")\n",
    "#gg.set_titles(template=\"$N = {col_name} \\:|\\: M = {row_name}$\", size=12)\n",
    "gg.set_xlabels(\"Eigenvalues\", fontsize=10)\n",
    "gg.set_ylabels(\"AE (log scale)\", fontsize=10)\n",
    "gg.set(ylim=(1e-5, 10))\n",
    "for ax in gg.axes.flat:\n",
    "    ax.set_yscale(\"log\")\n",
    "gg.axes.flat[0].set_title(\"Sparsity: high\", size=12)\n",
    "gg.axes.flat[1].set_title(\"Sparsity: medium\", size=12)\n",
    "gg.fig.tight_layout()\n",
    "\n",
    "sns.move_legend(\n",
    "    gg, \"center\",\n",
    "    bbox_to_anchor=(.5, 0), ncol=3,\n",
    "    labels=[\"(Tensor) PCA\", \"2D/1D B-Splines\", \"Gram\"],\n",
    "    title=None, frameon=False, fontsize='12'\n",
    ")\n",
    "\n",
    "plt.savefig(\n",
    "    f'AE_sparse.eps',\n",
    "    format='eps',\n",
    "    bbox_inches='tight'\n",
    ")\n",
    "plt.close()"
   ]
  }
 ],
 "metadata": {
  "kernelspec": {
   "display_name": "Python 3.9",
   "language": "python",
   "name": "python3.9"
  },
  "language_info": {
   "codemirror_mode": {
    "name": "ipython",
    "version": 3
   },
   "file_extension": ".py",
   "mimetype": "text/x-python",
   "name": "python",
   "nbconvert_exporter": "python",
   "pygments_lexer": "ipython3",
   "version": "3.9.11"
  }
 },
 "nbformat": 4,
 "nbformat_minor": 5
}
